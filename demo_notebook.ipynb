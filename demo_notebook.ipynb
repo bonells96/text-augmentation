{
 "cells": [
  {
   "cell_type": "code",
   "execution_count": 1,
   "metadata": {},
   "outputs": [],
   "source": [
    "from os import getcwd\n",
    "from os.path import join, dirname\n",
    "import nlpaug.augmenter.word as naw\n",
    "import nlpaug.augmenter.char as nac\n",
    "\n",
    "import sys\n",
    "PATH_REPO = dirname(getcwd())\n",
    "PATH_UTILS = join(PATH_REPO, 'utils')\n",
    "sys.path.append(PATH_UTILS)"
   ]
  },
  {
   "cell_type": "code",
   "execution_count": 2,
   "metadata": {},
   "outputs": [],
   "source": [
    "import augmentation"
   ]
  },
  {
   "cell_type": "markdown",
   "metadata": {},
   "source": [
    "### 1. Synonim Augmentation using wordnet\n",
    "\n",
    "We replace nouns and adjectives by a synonim using Wordnet"
   ]
  },
  {
   "cell_type": "code",
   "execution_count": 3,
   "metadata": {},
   "outputs": [
    {
     "name": "stdout",
     "output_type": "stream",
     "text": [
      "The original text is: \n",
      "I like you because I think you are really smart my friend\n",
      "the transformed text using wordnet is: \n",
      "I like you because I think you are really saucy my protagonist\n"
     ]
    }
   ],
   "source": [
    "text = \"I like you because I think you are really smart my friend\"\n",
    "print(f\"The original text is: \\n{text}\")\n",
    "transformed_text = augmentation.get_syn_sentence(text)\n",
    "print(f\"the transformed text using wordnet is: \\n{transformed_text}\")"
   ]
  },
  {
   "cell_type": "markdown",
   "metadata": {},
   "source": [
    "### 2. Negation + Antonym Augmentation using wordnet\n",
    "\n",
    "We replace nouns and adjectives by \"not + antonym\""
   ]
  },
  {
   "cell_type": "code",
   "execution_count": 4,
   "metadata": {},
   "outputs": [
    {
     "name": "stdout",
     "output_type": "stream",
     "text": [
      "The original text is: \n",
      "I like you because I think you are really smart my friend\n",
      "the transformed text using wordnet is: \n",
      "I like you because I think you are really not stupid my not foe\n"
     ]
    }
   ],
   "source": [
    "text = \"I like you because I think you are really smart my friend\"\n",
    "print(f\"The original text is: \\n{text}\")\n",
    "transformed_text = augmentation.get_neg_ant_sentence(text)\n",
    "print(f\"the transformed text using wordnet is: \\n{transformed_text}\")"
   ]
  },
  {
   "cell_type": "markdown",
   "metadata": {},
   "source": [
    "### 3. Nlpaug for adding stopwords"
   ]
  },
  {
   "cell_type": "code",
   "execution_count": 5,
   "metadata": {},
   "outputs": [
    {
     "name": "stdout",
     "output_type": "stream",
     "text": [
      "The original text is: \n",
      "I like you because I think you are really smart my friend\n",
      "the transformed text using wordnet is: \n",
      "now i quite like teasing you because again i think you are really smart my friend\n"
     ]
    }
   ],
   "source": [
    "aug = naw.ContextualWordEmbsAug(model_path='bert-base-uncased', action=\"insert\")\n",
    "text = \"I like you because I think you are really smart my friend\"\n",
    "print(f\"The original text is: \\n{text}\")\n",
    "transformed_text = aug.augment(text)[0]\n",
    "print(f\"the transformed text using wordnet is: \\n{transformed_text}\")"
   ]
  },
  {
   "cell_type": "markdown",
   "metadata": {},
   "source": [
    "### 4. Nlpaug adding characters (typos etc)"
   ]
  },
  {
   "cell_type": "code",
   "execution_count": 6,
   "metadata": {},
   "outputs": [
    {
     "name": "stdout",
     "output_type": "stream",
     "text": [
      "The original text is: \n",
      "I like ºyou because I think you are really smart my friend\n",
      "the transformed text using wordnet is: \n",
      "I like ºyou because 1 think y0o ake rea11y smart my friend\n"
     ]
    }
   ],
   "source": [
    "aug_char = nac.OcrAug() \n",
    "text = \"I like ºyou because I think you are really smart my friend\"\n",
    "print(f\"The original text is: \\n{text}\")\n",
    "transformed_text = aug_char.augment(text)[0]\n",
    "print(f\"the transformed text using wordnet is: \\n{transformed_text}\")"
   ]
  },
  {
   "cell_type": "markdown",
   "metadata": {},
   "source": [
    "### 5. Backtranslation"
   ]
  },
  {
   "cell_type": "code",
   "execution_count": 7,
   "metadata": {},
   "outputs": [
    {
     "name": "stdout",
     "output_type": "stream",
     "text": [
      "The original text is: \n",
      "I like you because I think you are really smart my friend\n",
      "the transformed text using wordnet is: \n",
      "I like you because I think you are very smart my friend\n"
     ]
    }
   ],
   "source": [
    "text = \"I like you because I think you are really smart my friend\"\n",
    "print(f\"The original text is: \\n{text}\")\n",
    "transformed_text = augmentation.backtranslate_text(text)\n",
    "print(f\"the transformed text using wordnet is: \\n{transformed_text}\")"
   ]
  },
  {
   "cell_type": "markdown",
   "metadata": {},
   "source": [
    "### 6. NER transformation"
   ]
  },
  {
   "cell_type": "code",
   "execution_count": 8,
   "metadata": {},
   "outputs": [
    {
     "name": "stdout",
     "output_type": "stream",
     "text": [
      "The original text is: \n",
      "I want to go to Barcelona and visit the offices of Apple\n",
      "the transformed text using wordnet is: \n",
      "I want to go to Miami and visit the offices of Sun\n"
     ]
    }
   ],
   "source": [
    "text = \"I want to go to Barcelona and visit the offices of Apple\"\n",
    "print(f\"The original text is: \\n{text}\")\n",
    "transformed_text = augmentation.ner_augment(text)\n",
    "print(f\"the transformed text using wordnet is: \\n{transformed_text}\")"
   ]
  },
  {
   "cell_type": "markdown",
   "metadata": {},
   "source": [
    "### 7. Change singular to plural"
   ]
  },
  {
   "cell_type": "code",
   "execution_count": 9,
   "metadata": {},
   "outputs": [
    {
     "name": "stdout",
     "output_type": "stream",
     "text": [
      "The original text is: \n",
      "I like you because I think you are really smart my friend\n",
      "the transformed text using wordnet is: \n",
      "I like you because I think you are really smarts my friends\n"
     ]
    }
   ],
   "source": [
    "text = \"I like you because I think you are really smart my friend\"\n",
    "print(f\"The original text is: \\n{text}\")\n",
    "transformed_text = augmentation.plural_transform(text)\n",
    "print(f\"the transformed text using wordnet is: \\n{transformed_text}\")"
   ]
  },
  {
   "cell_type": "markdown",
   "metadata": {},
   "source": [
    "### 8. Change plural to singular"
   ]
  },
  {
   "cell_type": "code",
   "execution_count": 10,
   "metadata": {},
   "outputs": [
    {
     "name": "stdout",
     "output_type": "stream",
     "text": [
      "The original text is: \n",
      "Tomorrow bring me my pencils\n",
      "the transformed text using wordnet is: \n",
      "Tomorrow bring me my pencil\n"
     ]
    }
   ],
   "source": [
    "text = \"Tomorrow bring me my pencils\"\n",
    "print(f\"The original text is: \\n{text}\")\n",
    "transformed_text = augmentation.singular_transform(text)\n",
    "print(f\"the transformed text using wordnet is: \\n{transformed_text}\")"
   ]
  },
  {
   "cell_type": "code",
   "execution_count": null,
   "metadata": {},
   "outputs": [],
   "source": []
  }
 ],
 "metadata": {
  "interpreter": {
   "hash": "e47804c1ed299085d4e8a53ccf00682f0ae343a074fe917d6afe75331ea05cab"
  },
  "kernelspec": {
   "display_name": "Python 3.9.1 64-bit ('venv_1')",
   "language": "python",
   "name": "python3"
  },
  "language_info": {
   "codemirror_mode": {
    "name": "ipython",
    "version": 3
   },
   "file_extension": ".py",
   "mimetype": "text/x-python",
   "name": "python",
   "nbconvert_exporter": "python",
   "pygments_lexer": "ipython3",
   "version": "3.9.1"
  },
  "orig_nbformat": 4
 },
 "nbformat": 4,
 "nbformat_minor": 2
}
